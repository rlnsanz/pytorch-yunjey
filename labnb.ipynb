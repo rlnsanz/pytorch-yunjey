{
 "cells": [
  {
   "cell_type": "code",
   "execution_count": 1,
   "metadata": {},
   "outputs": [],
   "source": [
    "import flor"
   ]
  },
  {
   "cell_type": "code",
   "execution_count": 2,
   "metadata": {},
   "outputs": [
    {
     "name": "stdout",
     "output_type": "stream",
     "text": [
      "STEPPING IN 574152cf364143e8e1783a32158bb598a018f6ea\n",
      "STEPPING IN e731a0aa8d609067f743368c7e5b861495a7f67f\n",
      "STEPPING IN 2b844339cf218702d2b6460a96b025e3a520d4f6\n",
      "STEPPING IN eb12de795ad384a2fe4afb14a10df1d5870bb71f\n"
     ]
    }
   ],
   "source": [
    "facts = flor.log_records()\n",
    "facts"
   ]
  },
  {
   "cell_type": "code",
   "execution_count": null,
   "metadata": {},
   "outputs": [],
   "source": [
    "full_pivot = flor.full_pivot(facts)\n",
    "full_pivot"
   ]
  },
  {
   "cell_type": "code",
   "execution_count": null,
   "metadata": {},
   "outputs": [],
   "source": [
    "full_pivot[list(flor.DATA_PREP) + ['accuracy']].drop_duplicates()"
   ]
  }
 ],
 "metadata": {
  "kernelspec": {
   "display_name": "base",
   "language": "python",
   "name": "python3"
  },
  "language_info": {
   "codemirror_mode": {
    "name": "ipython",
    "version": 3
   },
   "file_extension": ".py",
   "mimetype": "text/x-python",
   "name": "python",
   "nbconvert_exporter": "python",
   "pygments_lexer": "ipython3",
   "version": "3.9.13"
  },
  "orig_nbformat": 4
 },
 "nbformat": 4,
 "nbformat_minor": 2
}
